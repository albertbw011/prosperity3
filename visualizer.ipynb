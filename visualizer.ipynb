{
 "cells": [
  {
   "cell_type": "code",
   "execution_count": 55,
   "id": "9c5bfbbd",
   "metadata": {},
   "outputs": [],
   "source": [
    "import pandas as pd\n",
    "import statsmodels.api as sm\n",
    "from statsmodels.tsa.stattools import adfuller\n",
    "import numpy as np\n",
    "import matplotlib.pyplot as plt"
   ]
  },
  {
   "cell_type": "code",
   "execution_count": 56,
   "id": "4e9cb955",
   "metadata": {},
   "outputs": [],
   "source": [
    "def check_stationarity(series):\n",
    "    result = adfuller(series)\n",
    "    return result[1] > 0.05  # p-value > 0.05 implies non-stationary\n",
    "\n",
    "# Calculate mid prices for each product\n",
    "def calculate_mid_prices(df):\n",
    "    # Assuming the highest bid and lowest ask are the best prices\n",
    "    best_bid = df[['bid_price_1', 'bid_price_2', 'bid_price_3']].max(axis=1)\n",
    "    best_ask = df[['ask_price_1', 'ask_price_2', 'ask_price_3']].min(axis=1)\n",
    "    \n",
    "    # Calculate mid price\n",
    "    mid_price = (best_bid + best_ask) / 2\n",
    "    return mid_price"
   ]
  },
  {
   "cell_type": "code",
   "execution_count": 57,
   "id": "e413280c",
   "metadata": {},
   "outputs": [],
   "source": [
    "curr_round = 1\n",
    "root_path = f'Round {curr_round}'\n",
    "\n",
    "# Extract into dataframe\n",
    "data = pd.read_csv(f'{root_path}/prices_round_{curr_round}_day_0.csv', delimiter=';')"
   ]
  },
  {
   "cell_type": "markdown",
   "id": "9747a993",
   "metadata": {},
   "source": [
    "Test if a product's price is non stationary with the Augmented Dickey-Fuller (ADF) test"
   ]
  },
  {
   "cell_type": "code",
   "execution_count": 58,
   "id": "3d1c0368",
   "metadata": {},
   "outputs": [
    {
     "name": "stdout",
     "output_type": "stream",
     "text": [
      "\n",
      "KELP mid price is non-stationary: True\n",
      "SQUID_INK mid price is non-stationary: True\n"
     ]
    }
   ],
   "source": [
    "# Filter data for each stock\n",
    "stock1 = data[data['product'] == 'KELP'].copy()\n",
    "stock2 = data[data['product'] == 'SQUID_INK'].copy()\n",
    "\n",
    "# Reset indices to ensure they're aligned\n",
    "stock1.reset_index(drop=True, inplace=True)\n",
    "stock2.reset_index(drop=True, inplace=True)\n",
    "\n",
    "# Calculate mid prices\n",
    "stock1['mid_price'] = calculate_mid_prices(stock1)\n",
    "stock2['mid_price'] = calculate_mid_prices(stock2)\n",
    "\n",
    "stock1_mid_prices = stock1['mid_price']\n",
    "stock2_mid_prices = stock2['mid_price']\n",
    "\n",
    "# Check stationarity of mid prices\n",
    "print(f\"\\nKELP mid price is non-stationary: {check_stationarity(stock1_mid_prices.dropna())}\")\n",
    "print(f\"SQUID_INK mid price is non-stationary: {check_stationarity(stock2_mid_prices.dropna())}\")"
   ]
  },
  {
   "cell_type": "code",
   "execution_count": 59,
   "id": "6a131edf",
   "metadata": {},
   "outputs": [
    {
     "name": "stdout",
     "output_type": "stream",
     "text": [
      "Spread ADF p-value: 0.0701\n",
      "No cointegration\n"
     ]
    }
   ],
   "source": [
    "# Regress StockA on StockB\n",
    "from statsmodels.api import OLS\n",
    "X = sm.add_constant(stock2_mid_prices)\n",
    "\n",
    "model = OLS(stock1_mid_prices, X).fit()\n",
    "spread = model.resid\n",
    "\n",
    "# Test spread for stationarity\n",
    "adf_result = adfuller(spread)\n",
    "p_value = adf_result[1]\n",
    "print(f\"Spread ADF p-value: {p_value:.4f}\")\n",
    "\n",
    "if p_value < 0.05:\n",
    "    print(\"Stocks are cointegrated (spread is stationary)\")\n",
    "else:\n",
    "    print(\"No cointegration\")\n"
   ]
  },
  {
   "cell_type": "code",
   "execution_count": 49,
   "id": "e8276f82",
   "metadata": {},
   "outputs": [
    {
     "ename": "SyntaxError",
     "evalue": "invalid syntax (1991242321.py, line 4)",
     "output_type": "error",
     "traceback": [
      "  \u001b[36mCell\u001b[39m\u001b[36m \u001b[39m\u001b[32mIn[49]\u001b[39m\u001b[32m, line 4\u001b[39m\n\u001b[31m    \u001b[39m\u001b[31mstocks =\u001b[39m\n             ^\n\u001b[31mSyntaxError\u001b[39m\u001b[31m:\u001b[39m invalid syntax\n"
     ]
    }
   ],
   "source": [
    "from statsmodels.tsa.vector_ar.vecm import coint_johansen\n",
    "\n",
    "# Select stocks (e.g., 3 stocks)\n",
    "stocks = \n",
    "result = coint_johansen(stocks, det_order=0, k_ar_diff=1)\n",
    "\n",
    "# Check trace statistics\n",
    "print(\"Trace statistics:\", result.lr1)\n",
    "print(\"Critical values:\", result.cvt)\n"
   ]
  }
 ],
 "metadata": {
  "kernelspec": {
   "display_name": ".venv",
   "language": "python",
   "name": "python3"
  },
  "language_info": {
   "codemirror_mode": {
    "name": "ipython",
    "version": 3
   },
   "file_extension": ".py",
   "mimetype": "text/x-python",
   "name": "python",
   "nbconvert_exporter": "python",
   "pygments_lexer": "ipython3",
   "version": "3.13.2"
  }
 },
 "nbformat": 4,
 "nbformat_minor": 5
}
